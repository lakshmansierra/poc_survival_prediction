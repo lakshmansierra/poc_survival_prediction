{
  "cells": [
    {
      "cell_type": "markdown",
      "metadata": {
        "colab_type": "text",
        "id": "37puETfgRzzg"
      },
      "source": [
        "# lifelines - predictive maintenance"
      ]
    },
    {
      "cell_type": "markdown",
      "metadata": {
        "colab_type": "text",
        "id": "EoRP98MpR-qj"
      },
      "source": [
        "## Importing the libraries"
      ]
    },
    {
      "cell_type": "code",
      "execution_count": 1,
      "metadata": {
        "colab": {},
        "colab_type": "code",
        "id": "N-qiINBQSK2g"
      },
      "outputs": [],
      "source": [
        "import os\n",
        "from datetime import datetime\n",
        "import numpy as np\n",
        "import matplotlib.pyplot as plt\n",
        "import pandas as pd\n"
      ]
    },
    {
      "cell_type": "markdown",
      "metadata": {
        "colab_type": "text",
        "id": "RopL7tUZSQkT"
      },
      "source": [
        "## Importing the dataset"
      ]
    },
    {
      "cell_type": "code",
      "execution_count": 2,
      "metadata": {},
      "outputs": [],
      "source": [
        "# pyspark_df = spark.table(\"sd_bdc_demo.sarima_time_series_forecasting.1_service_now_survival_data\")\n",
        "# pyspark_df.display()\n",
        "# df = pyspark_df.toPandas()"
      ]
    },
    {
      "cell_type": "code",
      "execution_count": 3,
      "metadata": {},
      "outputs": [],
      "source": [
        "df = pd.read_csv(\"2_service_now_lifelines_updated_data/2_service_now_lifelines_updated_data.csv\")\n"
      ]
    },
    {
      "cell_type": "code",
      "execution_count": 4,
      "metadata": {},
      "outputs": [
        {
          "name": "stdout",
          "output_type": "stream",
          "text": [
            "   Asset_Number  start  stop  event  Category      usage  temperature  \\\n",
            "0        100080      0    14      0  Security  89.242856    21.072078   \n",
            "1        100080     14    17      1  Security  18.028311    52.449810   \n",
            "2        100080     17    19      1  Security  56.002279    75.497191   \n",
            "3        100080     19    21      0  Security  13.719146    12.130803   \n",
            "4        100080     21    25      0  Security  34.996827    10.222960   \n",
            "\n",
            "        load  health_bar  \n",
            "0  18.921408   75.926079  \n",
            "1  30.837617   46.889084  \n",
            "2  14.388191   46.312371  \n",
            "3  54.861030  100.000000  \n",
            "4  68.653680   43.616789  \n"
          ]
        }
      ],
      "source": [
        "print(df.head())"
      ]
    },
    {
      "cell_type": "code",
      "execution_count": 5,
      "metadata": {},
      "outputs": [
        {
          "name": "stdout",
          "output_type": "stream",
          "text": [
            "Index(['Asset_Number', 'start', 'stop', 'event', 'Category', 'usage',\n",
            "       'temperature', 'load', 'health_bar'],\n",
            "      dtype='object')\n"
          ]
        }
      ],
      "source": [
        "print(df.columns)"
      ]
    },
    {
      "cell_type": "code",
      "execution_count": 6,
      "metadata": {},
      "outputs": [
        {
          "name": "stdout",
          "output_type": "stream",
          "text": [
            "Asset_Number      int64\n",
            "start             int64\n",
            "stop              int64\n",
            "event             int64\n",
            "Category         object\n",
            "usage           float64\n",
            "temperature     float64\n",
            "load            float64\n",
            "health_bar      float64\n",
            "dtype: object\n"
          ]
        }
      ],
      "source": [
        "print(df.dtypes)"
      ]
    },
    {
      "cell_type": "code",
      "execution_count": 7,
      "metadata": {},
      "outputs": [
        {
          "name": "stdout",
          "output_type": "stream",
          "text": [
            "(11100, 9)\n"
          ]
        }
      ],
      "source": [
        "print(df.shape)"
      ]
    },
    {
      "cell_type": "markdown",
      "metadata": {},
      "source": [
        "### Drop category column"
      ]
    },
    {
      "cell_type": "code",
      "execution_count": 8,
      "metadata": {},
      "outputs": [],
      "source": [
        "df.drop(columns=['Category'], inplace=True)"
      ]
    },
    {
      "cell_type": "code",
      "execution_count": 9,
      "metadata": {},
      "outputs": [
        {
          "name": "stdout",
          "output_type": "stream",
          "text": [
            "(11100, 8)\n"
          ]
        }
      ],
      "source": [
        "print(df.shape)"
      ]
    },
    {
      "cell_type": "markdown",
      "metadata": {},
      "source": [
        "## Different Data Frame For Individual assets"
      ]
    },
    {
      "cell_type": "code",
      "execution_count": 10,
      "metadata": {},
      "outputs": [
        {
          "name": "stdout",
          "output_type": "stream",
          "text": [
            "[100080 100081 300006 300007 300008 300009 300010 300011 300012 300013\n",
            " 300014 300015 300035 300036 300016 300037 300017 300018 300019 300020\n",
            " 300021 300022 300038 300039 300023 300024 300025 300026 300027 300028\n",
            " 300029 300030 300031 300032 300033 300034 600053 600054 600055 600056\n",
            " 600057 600058 600059 600060 600061 600062 600063 600064 600065 600066\n",
            " 600067 600068 600069 600070 600071 600072 600073 600074 600075 600076\n",
            " 600077 600078 600079 600080 600081 600082 600083 600084 600085 600086\n",
            " 600087 600088 600089 600090 600091 600092 600093 600094 600095 600096\n",
            " 600097 600098 600099 600100 600101 600102 600103 600104 600105 600106\n",
            " 600107 600108 600109 600110 600111 600112 600113 600114 600115 600116\n",
            " 600117 600118 600119 600120 600121 600122 600123 600124 600125 600126\n",
            " 600127]\n"
          ]
        }
      ],
      "source": [
        "unique_assets = df['Asset_Number'].unique()\n",
        "print(unique_assets)"
      ]
    },
    {
      "cell_type": "code",
      "execution_count": 11,
      "metadata": {},
      "outputs": [],
      "source": [
        "asset_dfs = {}\n",
        "\n",
        "for asset_id in unique_assets:\n",
        "    asset_df = df[df['Asset_Number'] == asset_id]\n",
        "\n",
        "    asset_dfs[asset_id] = asset_df"
      ]
    },
    {
      "cell_type": "code",
      "execution_count": 12,
      "metadata": {},
      "outputs": [
        {
          "name": "stdout",
          "output_type": "stream",
          "text": [
            "    Asset_Number  start  stop  event      usage  temperature       load  \\\n",
            "0         100080      0    14      0  89.242856    21.072078  18.921408   \n",
            "1         100080     14    17      1  18.028311    52.449810  30.837617   \n",
            "2         100080     17    19      1  56.002279    75.497191  14.388191   \n",
            "3         100080     19    21      0  13.719146    12.130803  54.861030   \n",
            "4         100080     21    25      0  34.996827    10.222960  68.653680   \n",
            "..           ...    ...   ...    ...        ...          ...        ...   \n",
            "95        100080    447   448      0  82.623957    79.928071  85.666082   \n",
            "96        100080    448   453      0  52.185868    50.653635  60.664292   \n",
            "97        100080    453   458      1  87.750317    41.481725  98.926973   \n",
            "98        100080    458   473      1  38.249971    97.978681  59.125432   \n",
            "99        100080    473   497      0  92.668396    58.518503  98.768340   \n",
            "\n",
            "    health_bar  \n",
            "0    75.926079  \n",
            "1    46.889084  \n",
            "2    46.312371  \n",
            "3   100.000000  \n",
            "4    43.616789  \n",
            "..         ...  \n",
            "95   68.605929  \n",
            "96   39.658019  \n",
            "97   22.461961  \n",
            "98    0.000000  \n",
            "99   84.151291  \n",
            "\n",
            "[100 rows x 8 columns]\n"
          ]
        }
      ],
      "source": [
        "individual_asset = asset_dfs[100080]\n",
        "print(individual_asset)"
      ]
    },
    {
      "cell_type": "code",
      "execution_count": 13,
      "metadata": {},
      "outputs": [
        {
          "name": "stdout",
          "output_type": "stream",
          "text": [
            "(100, 8)\n"
          ]
        }
      ],
      "source": [
        "print(individual_asset.shape)"
      ]
    },
    {
      "cell_type": "markdown",
      "metadata": {},
      "source": [
        "## CoxTimeVaryingFitter on each asset dataset"
      ]
    },
    {
      "cell_type": "code",
      "execution_count": 14,
      "metadata": {},
      "outputs": [],
      "source": [
        "from lifelines import CoxTimeVaryingFitter\n",
        "from lifelines.utils import concordance_index\n",
        "\n",
        "def run_ctv_pipeline(asset_df, test_size=20):\n",
        "    # asset_df = asset_df.sort_values(\"start\").reset_index(drop=True)\n",
        "\n",
        "    if asset_df['event'].sum() == 0:\n",
        "        return None, {\"error\": \"No observed events\"}\n",
        "\n",
        "    if len(asset_df) <= test_size:\n",
        "        return None, {\"error\": \"Insufficient data for train-test split\"}\n",
        "\n",
        "    # Split\n",
        "    train_df = asset_df.iloc[:-test_size]\n",
        "    test_df = asset_df.iloc[-test_size:]\n",
        "\n",
        "    if test_df[\"event\"].sum() == 0:\n",
        "        return None, {\"error\": \"Test set has no events\"}\n",
        "\n",
        "    try:\n",
        "        # Fit\n",
        "        ctv = CoxTimeVaryingFitter()\n",
        "        ctv.fit(train_df, id_col=\"Asset_Number\", start_col=\"start\", stop_col=\"stop\", event_col=\"event\")\n",
        "\n",
        "        # Predict partial hazard on test\n",
        "        test_df[\"predicted_hazard\"] = ctv.predict_partial_hazard(test_df)\n",
        "\n",
        "        # Evaluate\n",
        "        c_index = concordance_index(\n",
        "            test_df[\"stop\"],\n",
        "            -test_df[\"predicted_hazard\"],  # Higher hazard → lower survival\n",
        "            test_df[\"event\"]\n",
        "        )\n",
        "\n",
        "        return ctv, {\n",
        "            \"Concordance_Index\": round(c_index, 4),\n",
        "            \"Train_Size\": len(train_df),\n",
        "            \"Test_Size\": len(test_df)\n",
        "        }\n",
        "\n",
        "    except Exception as e:\n",
        "        return None, {\"error\": str(e)}\n"
      ]
    },
    {
      "cell_type": "code",
      "execution_count": 15,
      "metadata": {},
      "outputs": [
        {
          "name": "stdout",
          "output_type": "stream",
          "text": [
            "[100080] Skipped: Matrix is singular.\n",
            "[100081] Skipped: Matrix is singular.\n",
            "[300006] Skipped: Matrix is singular.\n",
            "[300007] Skipped: Matrix is singular.\n",
            "[300008] Skipped: Matrix is singular.\n",
            "[300009] Skipped: Matrix is singular.\n",
            "[300010] Skipped: Matrix is singular.\n",
            "[300011] Skipped: Matrix is singular.\n",
            "[300012] Skipped: Matrix is singular.\n",
            "[300013] Skipped: Matrix is singular.\n",
            "[300014] Skipped: Matrix is singular.\n",
            "[300015] Skipped: Matrix is singular.\n",
            "[300035] Skipped: Matrix is singular.\n",
            "[300036] Skipped: Matrix is singular.\n",
            "[300016] Skipped: Matrix is singular.\n",
            "[300037] Skipped: Matrix is singular.\n",
            "[300017] Skipped: Matrix is singular.\n",
            "[300018] Skipped: Matrix is singular.\n",
            "[300019] Skipped: Matrix is singular.\n",
            "[300020] Skipped: Matrix is singular.\n",
            "[300021] Skipped: Matrix is singular.\n",
            "[300022] Skipped: Matrix is singular.\n",
            "[300038] Skipped: Matrix is singular.\n",
            "[300039] Skipped: Matrix is singular.\n",
            "[300023] Skipped: Matrix is singular.\n",
            "[300024] Skipped: Matrix is singular.\n",
            "[300025] Skipped: Matrix is singular.\n",
            "[300026] Skipped: Matrix is singular.\n",
            "[300027] Skipped: Matrix is singular.\n",
            "[300028] Skipped: Matrix is singular.\n",
            "[300029] Skipped: Matrix is singular.\n",
            "[300030] Skipped: Matrix is singular.\n",
            "[300031] Skipped: Matrix is singular.\n",
            "[300032] Skipped: Matrix is singular.\n",
            "[300033] Skipped: Matrix is singular.\n",
            "[300034] Skipped: Matrix is singular.\n",
            "[600053] Skipped: Matrix is singular.\n",
            "[600054] Skipped: Matrix is singular.\n",
            "[600055] Skipped: Matrix is singular.\n",
            "[600056] Skipped: Matrix is singular.\n",
            "[600057] Skipped: Matrix is singular.\n",
            "[600058] Skipped: Matrix is singular.\n",
            "[600059] Skipped: Matrix is singular.\n",
            "[600060] Skipped: Matrix is singular.\n",
            "[600061] Skipped: Matrix is singular.\n",
            "[600062] Skipped: Matrix is singular.\n",
            "[600063] Skipped: Matrix is singular.\n",
            "[600064] Skipped: Matrix is singular.\n",
            "[600065] Skipped: Matrix is singular.\n",
            "[600066] Skipped: Matrix is singular.\n",
            "[600067] Skipped: Matrix is singular.\n",
            "[600068] Skipped: Matrix is singular.\n",
            "[600069] Skipped: Matrix is singular.\n",
            "[600070] Skipped: Matrix is singular.\n",
            "[600071] Skipped: Matrix is singular.\n",
            "[600072] Skipped: Matrix is singular.\n",
            "[600073] Skipped: Matrix is singular.\n",
            "[600074] Skipped: Matrix is singular.\n",
            "[600075] Skipped: Matrix is singular.\n",
            "[600076] Skipped: Matrix is singular.\n",
            "[600077] Skipped: Matrix is singular.\n",
            "[600078] Skipped: Matrix is singular.\n",
            "[600079] Skipped: Matrix is singular.\n",
            "[600080] Skipped: Matrix is singular.\n",
            "[600081] Skipped: Matrix is singular.\n",
            "[600082] Skipped: Matrix is singular.\n",
            "[600083] Skipped: Matrix is singular.\n",
            "[600084] Skipped: Matrix is singular.\n",
            "[600085] Skipped: Matrix is singular.\n",
            "[600086] Skipped: Matrix is singular.\n",
            "[600087] Skipped: Matrix is singular.\n",
            "[600088] Skipped: Matrix is singular.\n",
            "[600089] Skipped: Matrix is singular.\n",
            "[600090] Skipped: Matrix is singular.\n",
            "[600091] Skipped: Matrix is singular.\n",
            "[600092] Skipped: Matrix is singular.\n",
            "[600093] Skipped: Matrix is singular.\n",
            "[600094] Skipped: Matrix is singular.\n",
            "[600095] Skipped: Matrix is singular.\n",
            "[600096] Skipped: Matrix is singular.\n",
            "[600097] Skipped: Matrix is singular.\n",
            "[600098] Skipped: Matrix is singular.\n",
            "[600099] Skipped: Matrix is singular.\n",
            "[600100] Skipped: Matrix is singular.\n",
            "[600101] Skipped: Matrix is singular.\n",
            "[600102] Skipped: Matrix is singular.\n",
            "[600103] Skipped: Matrix is singular.\n",
            "[600104] Skipped: Matrix is singular.\n",
            "[600105] Skipped: Matrix is singular.\n",
            "[600106] Skipped: Matrix is singular.\n",
            "[600107] Skipped: Matrix is singular.\n",
            "[600108] Skipped: Matrix is singular.\n",
            "[600109] Skipped: Matrix is singular.\n",
            "[600110] Skipped: Matrix is singular.\n",
            "[600111] Skipped: Matrix is singular.\n",
            "[600112] Skipped: Matrix is singular.\n",
            "[600113] Skipped: Matrix is singular.\n",
            "[600114] Skipped: Matrix is singular.\n",
            "[600115] Skipped: Matrix is singular.\n",
            "[600116] Skipped: Matrix is singular.\n",
            "[600117] Skipped: Matrix is singular.\n",
            "[600118] Skipped: Matrix is singular.\n",
            "[600119] Skipped: Matrix is singular.\n",
            "[600120] Skipped: Matrix is singular.\n",
            "[600121] Skipped: Matrix is singular.\n",
            "[600122] Skipped: Matrix is singular.\n",
            "[600123] Skipped: Matrix is singular.\n",
            "[600124] Skipped: Matrix is singular.\n",
            "[600125] Skipped: Matrix is singular.\n",
            "[600126] Skipped: Matrix is singular.\n",
            "[600127] Skipped: Matrix is singular.\n"
          ]
        }
      ],
      "source": [
        "results = {}\n",
        "\n",
        "for asset_id, df_asset in asset_dfs.items():\n",
        "    model, metrics = run_ctv_pipeline(df_asset)\n",
        "\n",
        "    if model is None:\n",
        "        print(f\"[{asset_id}] Skipped: {metrics['error']}\")\n",
        "    else:\n",
        "        print(f\"[{asset_id}] ✅ Concordance Index: {metrics['Concordance_Index']}\")\n",
        "        results[asset_id] = {\n",
        "            \"model\": model,\n",
        "            \"metrics\": metrics\n",
        "        }\n"
      ]
    }
  ],
  "metadata": {
    "colab": {
      "collapsed_sections": [],
      "name": "data_preprocessing_tools.ipynb",
      "provenance": [],
      "toc_visible": true
    },
    "kernelspec": {
      "display_name": ".venv",
      "language": "python",
      "name": "python3"
    },
    "language_info": {
      "codemirror_mode": {
        "name": "ipython",
        "version": 3
      },
      "file_extension": ".py",
      "mimetype": "text/x-python",
      "name": "python",
      "nbconvert_exporter": "python",
      "pygments_lexer": "ipython3",
      "version": "3.10.11"
    }
  },
  "nbformat": 4,
  "nbformat_minor": 0
}
