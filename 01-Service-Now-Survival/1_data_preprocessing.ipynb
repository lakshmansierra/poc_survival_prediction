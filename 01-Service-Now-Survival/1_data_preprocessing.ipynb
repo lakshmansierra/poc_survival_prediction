{
  "cells": [
    {
      "cell_type": "markdown",
      "metadata": {
        "colab_type": "text",
        "id": "37puETfgRzzg"
      },
      "source": [
        "# Data Preprocessing Tools"
      ]
    },
    {
      "cell_type": "markdown",
      "metadata": {
        "colab_type": "text",
        "id": "EoRP98MpR-qj"
      },
      "source": [
        "## Importing the libraries"
      ]
    },
    {
      "cell_type": "code",
      "execution_count": 12,
      "metadata": {
        "colab": {},
        "colab_type": "code",
        "id": "N-qiINBQSK2g"
      },
      "outputs": [],
      "source": [
        "import os\n",
        "import numpy as np\n",
        "import matplotlib.pyplot as plt\n",
        "import pandas as pd\n"
      ]
    },
    {
      "cell_type": "markdown",
      "metadata": {
        "colab_type": "text",
        "id": "RopL7tUZSQkT"
      },
      "source": [
        "## Importing the dataset"
      ]
    },
    {
      "cell_type": "code",
      "execution_count": 13,
      "metadata": {},
      "outputs": [],
      "source": [
        "# Load Excel files\n",
        "df = pd.read_csv(\"0_service_now_raw_data/service_now_only.csv\")"
      ]
    },
    {
      "cell_type": "code",
      "execution_count": 14,
      "metadata": {},
      "outputs": [
        {
          "name": "stdout",
          "output_type": "stream",
          "text": [
            "Index(['Asset Number', 'Incident_Number', 'Short_Description', 'Status',\n",
            "       'Priority', 'Category', 'Subcategory', 'Assigned_To', 'Assigned_Group',\n",
            "       'Created_Date'],\n",
            "      dtype='object')\n"
          ]
        }
      ],
      "source": [
        "print(df.columns)"
      ]
    },
    {
      "cell_type": "code",
      "execution_count": 15,
      "metadata": {},
      "outputs": [],
      "source": [
        "# Selective renaming for df\n",
        "df_rename = df.rename(columns={\n",
        "    'Asset Number': 'Asset_Number'\n",
        "})\n"
      ]
    },
    {
      "cell_type": "code",
      "execution_count": 16,
      "metadata": {},
      "outputs": [
        {
          "name": "stdout",
          "output_type": "stream",
          "text": [
            "Index(['Asset_Number', 'Incident_Number', 'Short_Description', 'Status',\n",
            "       'Priority', 'Category', 'Subcategory', 'Assigned_To', 'Assigned_Group',\n",
            "       'Created_Date'],\n",
            "      dtype='object')\n"
          ]
        }
      ],
      "source": [
        "print(df_rename.columns)"
      ]
    },
    {
      "cell_type": "code",
      "execution_count": 17,
      "metadata": {},
      "outputs": [],
      "source": [
        "# Your selected columns\n",
        "req_cols = ['Asset_Number', 'Created_Date']\n",
        "\n",
        "# Load only required columns\n",
        "df = df_rename[req_cols]\n"
      ]
    },
    {
      "cell_type": "code",
      "execution_count": 18,
      "metadata": {},
      "outputs": [
        {
          "name": "stdout",
          "output_type": "stream",
          "text": [
            "   Asset_Number         Created_Date\n",
            "0        100080  2024 04 09T15:58:22\n",
            "1        100081  2024 04 17T08:05:22\n",
            "2        300006  2024 04 10T08:33:47\n",
            "3        300007  2024 04 05T14:22:33\n",
            "4        300008  2024 04 11T11:45:33\n"
          ]
        }
      ],
      "source": [
        "print(df.head())"
      ]
    },
    {
      "cell_type": "markdown",
      "metadata": {},
      "source": [
        "## Custom Data Creation"
      ]
    },
    {
      "cell_type": "code",
      "execution_count": 19,
      "metadata": {},
      "outputs": [],
      "source": [
        "from datetime import timedelta\n",
        "import random\n",
        "\n",
        "# Convert to datetime.date (date only, no time)\n",
        "df.loc[:, \"Created_Date\"] = pd.to_datetime(df[\"Created_Date\"], format=\"%Y %m %dT%H:%M:%S\").dt.date\n",
        "\n",
        "# Initialize list to hold simulated data\n",
        "simulated_data = []\n",
        "\n",
        "# For each unique asset\n",
        "for _, row in df.iterrows():\n",
        "    asset_id = row[\"Asset_Number\"]\n",
        "    created_date = row[\"Created_Date\"]\n",
        "\n",
        "    # Convert start_date to datetime.date as well\n",
        "    start_date = (pd.to_datetime(created_date) - pd.DateOffset(months=36)).date()\n",
        "\n",
        "    # Total range in days\n",
        "    total_days = (created_date - start_date).days\n",
        "\n",
        "    # Limit number of unique incidents to the number of available days\n",
        "    max_incidents = min(350, total_days)\n",
        "    num_incidents = random.randint(300, max_incidents)\n",
        "\n",
        "    # Sample unique days\n",
        "    unique_days = random.sample(range(total_days), num_incidents - 1)\n",
        "\n",
        "    # Generate incident dates from sampled days\n",
        "    incident_dates = [start_date + timedelta(days=d) for d in unique_days]\n",
        "\n",
        "    # Add the actual Created_Date as the latest incident\n",
        "    incident_dates.append(created_date)\n",
        "\n",
        "    # Sort the list of incident dates\n",
        "    incident_dates.sort()\n",
        "\n",
        "    # Append to the final list\n",
        "    for date in incident_dates:\n",
        "        simulated_data.append({\"Asset_Number\": asset_id, \"Incident_Date\": date})\n",
        "\n",
        "# Create the final DataFrame\n",
        "incident_df = pd.DataFrame(simulated_data)\n",
        "\n",
        "# Convert Incident_Date to datetime (for diff)\n",
        "incident_df[\"Incident_Date\"] = pd.to_datetime(incident_df[\"Incident_Date\"])\n",
        "\n",
        "# Sort and calculate forward gap (next incident - current)\n",
        "incident_df = incident_df.sort_values([\"Asset_Number\", \"Incident_Date\"])\n",
        "incident_df[\"Gap_Days\"] = (\n",
        "    incident_df.groupby(\"Asset_Number\")[\"Incident_Date\"]\n",
        "    .shift(-1) - incident_df[\"Incident_Date\"]\n",
        ").dt.days\n",
        "\n",
        "\n",
        "incident_df.reset_index(drop=True, inplace=True)\n",
        "\n"
      ]
    },
    {
      "cell_type": "markdown",
      "metadata": {},
      "source": [
        "## Export Updated Excel"
      ]
    },
    {
      "cell_type": "code",
      "execution_count": 20,
      "metadata": {},
      "outputs": [],
      "source": [
        "# Create the folder if it doesn't exist\n",
        "os.makedirs(\"1_service_now_historic_time_series_data\", exist_ok=True)\n",
        "\n",
        "# Save the Excel file inside the folder\n",
        "incident_df.to_csv(\"1_service_now_historic_time_series_data/1_service_now_historic_time_series_data.csv\", index=False)"
      ]
    },
    {
      "cell_type": "code",
      "execution_count": null,
      "metadata": {},
      "outputs": [],
      "source": []
    }
  ],
  "metadata": {
    "colab": {
      "collapsed_sections": [],
      "name": "data_preprocessing_tools.ipynb",
      "provenance": [],
      "toc_visible": true
    },
    "kernelspec": {
      "display_name": ".venv",
      "language": "python",
      "name": "python3"
    },
    "language_info": {
      "codemirror_mode": {
        "name": "ipython",
        "version": 3
      },
      "file_extension": ".py",
      "mimetype": "text/x-python",
      "name": "python",
      "nbconvert_exporter": "python",
      "pygments_lexer": "ipython3",
      "version": "3.13.3"
    }
  },
  "nbformat": 4,
  "nbformat_minor": 0
}
