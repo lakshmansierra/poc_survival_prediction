{
  "cells": [
    {
      "cell_type": "markdown",
      "metadata": {
        "colab_type": "text",
        "id": "37puETfgRzzg"
      },
      "source": [
        "# Data Preprocessing Tools"
      ]
    },
    {
      "cell_type": "markdown",
      "metadata": {
        "colab_type": "text",
        "id": "EoRP98MpR-qj"
      },
      "source": [
        "## Importing the libraries"
      ]
    },
    {
      "cell_type": "code",
      "execution_count": 283,
      "metadata": {
        "colab": {},
        "colab_type": "code",
        "id": "N-qiINBQSK2g"
      },
      "outputs": [],
      "source": [
        "import os\n",
        "import numpy as np\n",
        "import matplotlib.pyplot as plt\n",
        "import pandas as pd\n"
      ]
    },
    {
      "cell_type": "markdown",
      "metadata": {
        "colab_type": "text",
        "id": "RopL7tUZSQkT"
      },
      "source": [
        "## Importing the dataset"
      ]
    },
    {
      "cell_type": "code",
      "execution_count": 284,
      "metadata": {},
      "outputs": [],
      "source": [
        "# Load Excel files\n",
        "df = pd.read_csv(\"0_service_now_raw_data/service_now_only.csv\")"
      ]
    },
    {
      "cell_type": "code",
      "execution_count": 285,
      "metadata": {},
      "outputs": [
        {
          "name": "stdout",
          "output_type": "stream",
          "text": [
            "Index(['Asset Number', 'Incident_Number', 'Short_Description', 'Status',\n",
            "       'Priority', 'Category', 'Subcategory', 'Assigned_To', 'Assigned_Group',\n",
            "       'Created_Date'],\n",
            "      dtype='object')\n"
          ]
        }
      ],
      "source": [
        "print(df.columns)"
      ]
    },
    {
      "cell_type": "code",
      "execution_count": 286,
      "metadata": {},
      "outputs": [],
      "source": [
        "# Selective renaming for df\n",
        "df_rename = df.rename(columns={\n",
        "    'Asset Number': 'Asset_Number'\n",
        "})\n"
      ]
    },
    {
      "cell_type": "code",
      "execution_count": 287,
      "metadata": {},
      "outputs": [
        {
          "name": "stdout",
          "output_type": "stream",
          "text": [
            "Index(['Asset_Number', 'Incident_Number', 'Short_Description', 'Status',\n",
            "       'Priority', 'Category', 'Subcategory', 'Assigned_To', 'Assigned_Group',\n",
            "       'Created_Date'],\n",
            "      dtype='object')\n"
          ]
        }
      ],
      "source": [
        "print(df_rename.columns)"
      ]
    },
    {
      "cell_type": "code",
      "execution_count": 288,
      "metadata": {},
      "outputs": [],
      "source": [
        "# Your selected columns\n",
        "req_cols = ['Asset_Number', 'Category']\n",
        "\n",
        "# Load only required columns\n",
        "df = df_rename[req_cols]\n"
      ]
    },
    {
      "cell_type": "code",
      "execution_count": 289,
      "metadata": {},
      "outputs": [
        {
          "name": "stdout",
          "output_type": "stream",
          "text": [
            "   Asset_Number    Category\n",
            "0        100080    Security\n",
            "1        100081  Facilities\n",
            "2        300006    Hardware\n",
            "3        300007    Hardware\n",
            "4        300008     Network\n"
          ]
        }
      ],
      "source": [
        "print(df.head())"
      ]
    },
    {
      "cell_type": "markdown",
      "metadata": {},
      "source": [
        "## Custom Data Creation"
      ]
    },
    {
      "cell_type": "code",
      "execution_count": 290,
      "metadata": {},
      "outputs": [],
      "source": [
        "df.columns = df.columns.str.strip()\n",
        "\n",
        "# Extract unique assets and categories\n",
        "asset_df = df[[\"Asset_Number\", \"Category\"]].drop_duplicates().reset_index(drop=True)\n",
        "\n",
        "# Simulate time-varying data\n",
        "def simulate_time_varying(asset_id, category, n_intervals=100, max_time=500):\n",
        "    # Generate non-uniform time intervals\n",
        "    stop_times = np.sort(np.random.choice(range(10, max_time), size=n_intervals, replace=False))\n",
        "    start_times = np.insert(stop_times[:-1], 0, 0)\n",
        "\n",
        "    # Simulate features in range 0–100\n",
        "    usage = np.clip(np.random.normal(loc=60, scale=10, size=n_intervals), 0, 100)\n",
        "    temperature = np.clip(np.random.normal(loc=30 + usage * 0.2, scale=5, size=n_intervals), 0, 100)\n",
        "    load = np.clip(np.random.normal(loc=70, scale=10, size=n_intervals), 0, 100)\n",
        "    health_bar = np.clip(100.0 - np.linspace(0, 100, n_intervals) + np.random.normal(0, 5, n_intervals), 0, 100)\n",
        "\n",
        "    # Initialize all events to 0\n",
        "    event = [0] * n_intervals\n",
        "\n",
        "    # Ensure at least one event is in the last 20 rows\n",
        "    last_20_idx = np.random.choice(range(n_intervals - 20, n_intervals), size=1, replace=False)\n",
        "    \n",
        "    # Choose 4 more indices from the remaining part\n",
        "    remaining_idx = list(set(range(n_intervals)) - set(last_20_idx))\n",
        "    additional_idx = np.random.choice(remaining_idx, size=4, replace=False)\n",
        "\n",
        "    final_event_indices = list(last_20_idx) + list(additional_idx)\n",
        "    for idx in final_event_indices:\n",
        "        event[idx] = 1\n",
        "\n",
        "    return pd.DataFrame({\n",
        "        \"Asset_Number\": [asset_id] * n_intervals,\n",
        "        \"start\": start_times,\n",
        "        \"stop\": stop_times,\n",
        "        \"event\": event,\n",
        "        \"Category\": [category] * n_intervals,\n",
        "        \"usage\": usage,\n",
        "        \"temperature\": temperature,\n",
        "        \"load\": load,\n",
        "        \"health_bar\": health_bar\n",
        "    })\n",
        "\n",
        "# Apply simulation for each asset\n",
        "time_varying_data = []\n",
        "\n",
        "for _, row in asset_df.iterrows():\n",
        "    asset_id = row[\"Asset_Number\"]\n",
        "    category = row[\"Category\"]\n",
        "    asset_data = simulate_time_varying(asset_id, category)\n",
        "    time_varying_data.append(asset_data)\n",
        "\n",
        "# Final dataset\n",
        "tv_df = pd.concat(time_varying_data, ignore_index=True)\n"
      ]
    },
    {
      "cell_type": "code",
      "execution_count": 292,
      "metadata": {},
      "outputs": [],
      "source": [
        "# Load Excel files\n",
        "df = pd.read_csv(\"1_service_now_survival_data/1_service_now_survival_data.csv\")"
      ]
    },
    {
      "cell_type": "code",
      "execution_count": 293,
      "metadata": {},
      "outputs": [
        {
          "name": "stdout",
          "output_type": "stream",
          "text": [
            "Asset_Number    0\n",
            "start           0\n",
            "stop            0\n",
            "event           0\n",
            "Category        0\n",
            "usage           0\n",
            "temperature     0\n",
            "load            0\n",
            "health_bar      0\n",
            "dtype: int64\n"
          ]
        }
      ],
      "source": [
        "print(tv_df.isna().sum())\n"
      ]
    },
    {
      "cell_type": "markdown",
      "metadata": {},
      "source": [
        "## Export Updated Excel"
      ]
    },
    {
      "cell_type": "code",
      "execution_count": 291,
      "metadata": {},
      "outputs": [],
      "source": [
        "# Create the folder if it doesn't exist\n",
        "os.makedirs(\"1_service_now_survival_data\", exist_ok=True)\n",
        "\n",
        "# Save the Excel file inside the folder\n",
        "tv_df.to_csv(\"1_service_now_survival_data/1_service_now_survival_data.csv\", index=False)"
      ]
    },
    {
      "cell_type": "code",
      "execution_count": null,
      "metadata": {},
      "outputs": [],
      "source": []
    }
  ],
  "metadata": {
    "colab": {
      "collapsed_sections": [],
      "name": "data_preprocessing_tools.ipynb",
      "provenance": [],
      "toc_visible": true
    },
    "kernelspec": {
      "display_name": ".venv",
      "language": "python",
      "name": "python3"
    },
    "language_info": {
      "codemirror_mode": {
        "name": "ipython",
        "version": 3
      },
      "file_extension": ".py",
      "mimetype": "text/x-python",
      "name": "python",
      "nbconvert_exporter": "python",
      "pygments_lexer": "ipython3",
      "version": "3.10.11"
    }
  },
  "nbformat": 4,
  "nbformat_minor": 0
}
