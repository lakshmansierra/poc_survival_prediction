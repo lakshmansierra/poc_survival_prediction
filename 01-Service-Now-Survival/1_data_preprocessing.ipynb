{
  "cells": [
    {
      "cell_type": "markdown",
      "metadata": {
        "colab_type": "text",
        "id": "37puETfgRzzg"
      },
      "source": [
        "# Data Preprocessing Tools"
      ]
    },
    {
      "cell_type": "markdown",
      "metadata": {
        "colab_type": "text",
        "id": "EoRP98MpR-qj"
      },
      "source": [
        "## Importing the libraries"
      ]
    },
    {
      "cell_type": "code",
      "execution_count": 104,
      "metadata": {
        "colab": {},
        "colab_type": "code",
        "id": "N-qiINBQSK2g"
      },
      "outputs": [],
      "source": [
        "import os\n",
        "import numpy as np\n",
        "import matplotlib.pyplot as plt\n",
        "import pandas as pd\n"
      ]
    },
    {
      "cell_type": "markdown",
      "metadata": {
        "colab_type": "text",
        "id": "RopL7tUZSQkT"
      },
      "source": [
        "## Importing the dataset"
      ]
    },
    {
      "cell_type": "code",
      "execution_count": 105,
      "metadata": {},
      "outputs": [],
      "source": [
        "# Load Excel files\n",
        "df = pd.read_csv(\"0_service_now_raw_data/service_now_only.csv\")"
      ]
    },
    {
      "cell_type": "code",
      "execution_count": 106,
      "metadata": {},
      "outputs": [
        {
          "name": "stdout",
          "output_type": "stream",
          "text": [
            "Index(['Asset Number', 'Incident_Number', 'Short_Description', 'Status',\n",
            "       'Priority', 'Category', 'Subcategory', 'Assigned_To', 'Assigned_Group',\n",
            "       'Created_Date'],\n",
            "      dtype='object')\n"
          ]
        }
      ],
      "source": [
        "print(df.columns)"
      ]
    },
    {
      "cell_type": "code",
      "execution_count": 107,
      "metadata": {},
      "outputs": [],
      "source": [
        "# Selective renaming for df\n",
        "df_rename = df.rename(columns={\n",
        "    'Asset Number': 'Asset_Number'\n",
        "})\n"
      ]
    },
    {
      "cell_type": "code",
      "execution_count": 108,
      "metadata": {},
      "outputs": [
        {
          "name": "stdout",
          "output_type": "stream",
          "text": [
            "Index(['Asset_Number', 'Incident_Number', 'Short_Description', 'Status',\n",
            "       'Priority', 'Category', 'Subcategory', 'Assigned_To', 'Assigned_Group',\n",
            "       'Created_Date'],\n",
            "      dtype='object')\n"
          ]
        }
      ],
      "source": [
        "print(df_rename.columns)"
      ]
    },
    {
      "cell_type": "code",
      "execution_count": 109,
      "metadata": {},
      "outputs": [],
      "source": [
        "# Your selected columns\n",
        "req_cols = ['Asset_Number', 'Category']\n",
        "\n",
        "# Load only required columns\n",
        "df = df_rename[req_cols]\n"
      ]
    },
    {
      "cell_type": "code",
      "execution_count": 110,
      "metadata": {},
      "outputs": [
        {
          "name": "stdout",
          "output_type": "stream",
          "text": [
            "   Asset_Number    Category\n",
            "0        100080    Security\n",
            "1        100081  Facilities\n",
            "2        300006    Hardware\n",
            "3        300007    Hardware\n",
            "4        300008     Network\n"
          ]
        }
      ],
      "source": [
        "print(df.head())"
      ]
    },
    {
      "cell_type": "markdown",
      "metadata": {},
      "source": [
        "## Custom Data Creation"
      ]
    },
    {
      "cell_type": "code",
      "execution_count": 111,
      "metadata": {},
      "outputs": [],
      "source": [
        "df.columns = df.columns.str.strip() \n",
        "\n",
        "# Take only the relevant columns and drop duplicates\n",
        "asset_df = df[[\"Asset_Number\", \"Category\"]].drop_duplicates()\n",
        "\n",
        "def simulate_survival_data(asset_number, category, n=50, seed=None):\n",
        "    np.random.seed(seed or hash(asset_number) % (2**32))\n",
        "\n",
        "    # Simulate realistic features\n",
        "    usage = np.random.normal(loc=0.6, scale=0.1, size=n)\n",
        "    temperature = np.random.normal(loc=30 + usage * 10, scale=3, size=n)\n",
        "    age = np.random.randint(1, 20, size=n)\n",
        "\n",
        "    # Simulate lifetime_days directly in range 50–200 with realistic skew\n",
        "    # Skewed distribution: Most around 100–150, some as low as 50, few near 200\n",
        "    lifetime_days = np.random.gamma(shape=4, scale=20, size=n)\n",
        "    lifetime_days = np.clip(lifetime_days, 50, 200).astype(int)\n",
        "\n",
        "\n",
        "    # Simulate censoring (80% observed, 20% censored)\n",
        "    failure_event = np.random.binomial(n=1, p=0.8, size=n)\n",
        "\n",
        "    return pd.DataFrame({\n",
        "        \"Asset_Number\": [asset_number] * n,\n",
        "        \"lifetime_days\": lifetime_days,\n",
        "        \"broken\": failure_event,\n",
        "        \"Category\": [category] * n,\n",
        "        \"usage\": usage,\n",
        "        \"temperature\": temperature,\n",
        "        \"age\": age,\n",
        "    })\n",
        "\n",
        "# Generate data\n",
        "all_assets_data = []\n",
        "\n",
        "for _, row in asset_df.iterrows():\n",
        "    simulated = simulate_survival_data(\n",
        "        asset_number=row[\"Asset_Number\"],\n",
        "        category=row[\"Category\"],\n",
        "        n=100\n",
        "    )\n",
        "    all_assets_data.append(simulated)\n",
        "\n",
        "# Combine all simulated data\n",
        "final_df = pd.concat(all_assets_data, ignore_index=True)\n"
      ]
    },
    {
      "cell_type": "markdown",
      "metadata": {},
      "source": [
        "## Export Updated Excel"
      ]
    },
    {
      "cell_type": "code",
      "execution_count": 112,
      "metadata": {},
      "outputs": [],
      "source": [
        "# Create the folder if it doesn't exist\n",
        "os.makedirs(\"1_service_now_survival_data\", exist_ok=True)\n",
        "\n",
        "# Save the Excel file inside the folder\n",
        "final_df.to_csv(\"1_service_now_survival_data/1_service_now_survival_data.csv\", index=False)"
      ]
    },
    {
      "cell_type": "code",
      "execution_count": null,
      "metadata": {},
      "outputs": [],
      "source": []
    }
  ],
  "metadata": {
    "colab": {
      "collapsed_sections": [],
      "name": "data_preprocessing_tools.ipynb",
      "provenance": [],
      "toc_visible": true
    },
    "kernelspec": {
      "display_name": ".venv",
      "language": "python",
      "name": "python3"
    },
    "language_info": {
      "codemirror_mode": {
        "name": "ipython",
        "version": 3
      },
      "file_extension": ".py",
      "mimetype": "text/x-python",
      "name": "python",
      "nbconvert_exporter": "python",
      "pygments_lexer": "ipython3",
      "version": "3.10.11"
    }
  },
  "nbformat": 4,
  "nbformat_minor": 0
}
