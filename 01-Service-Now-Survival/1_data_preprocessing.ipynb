{
  "cells": [
    {
      "cell_type": "markdown",
      "metadata": {
        "colab_type": "text",
        "id": "37puETfgRzzg"
      },
      "source": [
        "# Data Preprocessing Tools"
      ]
    },
    {
      "cell_type": "markdown",
      "metadata": {
        "colab_type": "text",
        "id": "EoRP98MpR-qj"
      },
      "source": [
        "## Importing the libraries"
      ]
    },
    {
      "cell_type": "code",
      "execution_count": 368,
      "metadata": {
        "colab": {},
        "colab_type": "code",
        "id": "N-qiINBQSK2g"
      },
      "outputs": [],
      "source": [
        "import os\n",
        "import numpy as np\n",
        "import matplotlib.pyplot as plt\n",
        "import pandas as pd\n"
      ]
    },
    {
      "cell_type": "markdown",
      "metadata": {
        "colab_type": "text",
        "id": "RopL7tUZSQkT"
      },
      "source": [
        "## Importing the dataset"
      ]
    },
    {
      "cell_type": "code",
      "execution_count": 369,
      "metadata": {},
      "outputs": [],
      "source": [
        "# Load Excel files\n",
        "df = pd.read_csv(\"0_service_now_raw_data/service_now_only.csv\")"
      ]
    },
    {
      "cell_type": "code",
      "execution_count": 370,
      "metadata": {},
      "outputs": [
        {
          "name": "stdout",
          "output_type": "stream",
          "text": [
            "Index(['Asset Number', 'Incident_Number', 'Short_Description', 'Status',\n",
            "       'Priority', 'Category', 'Subcategory', 'Assigned_To', 'Assigned_Group',\n",
            "       'Created_Date'],\n",
            "      dtype='object')\n"
          ]
        }
      ],
      "source": [
        "print(df.columns)"
      ]
    },
    {
      "cell_type": "code",
      "execution_count": 371,
      "metadata": {},
      "outputs": [],
      "source": [
        "# Selective renaming for df\n",
        "df_rename = df.rename(columns={\n",
        "    'Asset Number': 'Asset_Number'\n",
        "})\n"
      ]
    },
    {
      "cell_type": "code",
      "execution_count": 372,
      "metadata": {},
      "outputs": [
        {
          "name": "stdout",
          "output_type": "stream",
          "text": [
            "Index(['Asset_Number', 'Incident_Number', 'Short_Description', 'Status',\n",
            "       'Priority', 'Category', 'Subcategory', 'Assigned_To', 'Assigned_Group',\n",
            "       'Created_Date'],\n",
            "      dtype='object')\n"
          ]
        }
      ],
      "source": [
        "print(df_rename.columns)"
      ]
    },
    {
      "cell_type": "code",
      "execution_count": 373,
      "metadata": {},
      "outputs": [],
      "source": [
        "# Your selected columns\n",
        "req_cols = ['Asset_Number', 'Category']\n",
        "\n",
        "# Load only required columns\n",
        "df = df_rename[req_cols]\n"
      ]
    },
    {
      "cell_type": "code",
      "execution_count": 374,
      "metadata": {},
      "outputs": [
        {
          "name": "stdout",
          "output_type": "stream",
          "text": [
            "   Asset_Number    Category\n",
            "0        100080    Security\n",
            "1        100081  Facilities\n",
            "2        300006    Hardware\n",
            "3        300007    Hardware\n",
            "4        300008     Network\n"
          ]
        }
      ],
      "source": [
        "print(df.head())"
      ]
    },
    {
      "cell_type": "markdown",
      "metadata": {},
      "source": [
        "## Custom Data Creation"
      ]
    },
    {
      "cell_type": "code",
      "execution_count": 375,
      "metadata": {},
      "outputs": [],
      "source": [
        "df.columns = df.columns.str.strip()\n",
        "\n",
        "# Extract unique assets and categories\n",
        "asset_df = df[[\"Asset_Number\", \"Category\"]].drop_duplicates().reset_index(drop=True)\n",
        "\n",
        "# Simulate time-varying data\n",
        "def simulate_time_varying(asset_id, category, n_intervals=100, max_time=500):\n",
        "    # Generate non-uniform time intervals\n",
        "    stop_times = np.sort(np.random.choice(range(10, max_time), size=n_intervals, replace=False))\n",
        "    start_times = np.insert(stop_times[:-1], 0, 0)\n",
        "\n",
        "    # Simulate **independent** features in range 0–100\n",
        "    usage = np.clip(np.random.uniform(0, 100, size=n_intervals), 0, 100)\n",
        "    load = np.clip(np.random.uniform(0, 100, size=n_intervals), 0, 100)\n",
        "    temperature = np.clip(np.random.uniform(0, 100, size=n_intervals), 0, 100)\n",
        "    health_bar = np.clip(np.random.normal(loc=50, scale=25, size=n_intervals), 0, 100)\n",
        "\n",
        "    # Create balanced 50/50 event column\n",
        "    event = [1] * (n_intervals // 2) + [0] * (n_intervals - n_intervals // 2)\n",
        "    np.random.shuffle(event)\n",
        "\n",
        "    return pd.DataFrame({\n",
        "        \"Asset_Number\": [asset_id] * n_intervals,\n",
        "        \"start\": start_times,\n",
        "        \"stop\": stop_times,\n",
        "        \"event\": event,\n",
        "        \"Category\": [category] * n_intervals,\n",
        "        \"usage\": usage,\n",
        "        \"temperature\": temperature,\n",
        "        \"load\": load,\n",
        "        \"health_bar\": health_bar\n",
        "        # DON'T include \"Category\" unless you encode it (e.g., one-hot encoding)\n",
        "    })\n",
        "\n",
        "\n",
        "# Apply simulation for each asset\n",
        "time_varying_data = []\n",
        "\n",
        "for _, row in asset_df.iterrows():\n",
        "    asset_id = row[\"Asset_Number\"]\n",
        "    category = row[\"Category\"]\n",
        "    asset_data = simulate_time_varying(asset_id, category)\n",
        "    time_varying_data.append(asset_data)\n",
        "\n",
        "# Final dataset\n",
        "tv_df = pd.concat(time_varying_data, ignore_index=True)\n"
      ]
    },
    {
      "cell_type": "markdown",
      "metadata": {},
      "source": [
        "## Export Updated Excel"
      ]
    },
    {
      "cell_type": "code",
      "execution_count": 376,
      "metadata": {},
      "outputs": [],
      "source": [
        "# Create the folder if it doesn't exist\n",
        "os.makedirs(\"1_service_now_survival_data\", exist_ok=True)\n",
        "\n",
        "# Save the Excel file inside the folder\n",
        "tv_df.to_csv(\"1_service_now_survival_data/1_service_now_survival_data.csv\", index=False)"
      ]
    }
  ],
  "metadata": {
    "colab": {
      "collapsed_sections": [],
      "name": "data_preprocessing_tools.ipynb",
      "provenance": [],
      "toc_visible": true
    },
    "kernelspec": {
      "display_name": ".venv",
      "language": "python",
      "name": "python3"
    },
    "language_info": {
      "codemirror_mode": {
        "name": "ipython",
        "version": 3
      },
      "file_extension": ".py",
      "mimetype": "text/x-python",
      "name": "python",
      "nbconvert_exporter": "python",
      "pygments_lexer": "ipython3",
      "version": "3.10.11"
    }
  },
  "nbformat": 4,
  "nbformat_minor": 0
}
