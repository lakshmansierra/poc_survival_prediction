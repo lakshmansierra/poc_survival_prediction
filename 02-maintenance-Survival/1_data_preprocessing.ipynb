{
  "cells": [
    {
      "cell_type": "markdown",
      "metadata": {
        "colab_type": "text",
        "id": "37puETfgRzzg"
      },
      "source": [
        "# Data Preprocessing Tools"
      ]
    },
    {
      "cell_type": "markdown",
      "metadata": {
        "colab_type": "text",
        "id": "EoRP98MpR-qj"
      },
      "source": [
        "## Importing the libraries"
      ]
    },
    {
      "cell_type": "code",
      "execution_count": 254,
      "metadata": {
        "colab": {},
        "colab_type": "code",
        "id": "N-qiINBQSK2g"
      },
      "outputs": [],
      "source": [
        "import os\n",
        "import numpy as np\n",
        "import matplotlib.pyplot as plt\n",
        "import pandas as pd\n"
      ]
    },
    {
      "cell_type": "markdown",
      "metadata": {
        "colab_type": "text",
        "id": "RopL7tUZSQkT"
      },
      "source": [
        "## Importing the maintenance dataset"
      ]
    },
    {
      "cell_type": "code",
      "execution_count": 255,
      "metadata": {},
      "outputs": [],
      "source": [
        "# Load Excel files\n",
        "df_maintenance = pd.read_csv(\"0_maintenance_raw_data/maintenance.csv\", sep=\";\")"
      ]
    },
    {
      "cell_type": "code",
      "execution_count": 256,
      "metadata": {},
      "outputs": [
        {
          "name": "stdout",
          "output_type": "stream",
          "text": [
            "Index(['lifetime', 'broken', 'pressureInd', 'moistureInd', 'temperatureInd',\n",
            "       'team', 'provider'],\n",
            "      dtype='object')\n"
          ]
        }
      ],
      "source": [
        "print(df_maintenance.columns)"
      ]
    },
    {
      "cell_type": "code",
      "execution_count": 257,
      "metadata": {},
      "outputs": [
        {
          "name": "stdout",
          "output_type": "stream",
          "text": [
            "   lifetime  broken  pressureInd  moistureInd  temperatureInd   team  \\\n",
            "0        56       0    92.178854   104.230204       96.517159  TeamA   \n",
            "1        81       1    72.075938   103.065701       87.271062  TeamC   \n",
            "2        60       0    96.272254    77.801376      112.196170  TeamA   \n",
            "3        86       1    94.406461   108.493608       72.025374  TeamC   \n",
            "4        34       0    97.752899    99.413492      103.756271  TeamB   \n",
            "\n",
            "    provider  \n",
            "0  Provider4  \n",
            "1  Provider4  \n",
            "2  Provider1  \n",
            "3  Provider2  \n",
            "4  Provider1  \n"
          ]
        }
      ],
      "source": [
        "print(df_maintenance.head())"
      ]
    },
    {
      "cell_type": "code",
      "execution_count": 258,
      "metadata": {},
      "outputs": [
        {
          "name": "stdout",
          "output_type": "stream",
          "text": [
            "(1000, 7)\n"
          ]
        }
      ],
      "source": [
        "print(df_maintenance.shape)"
      ]
    },
    {
      "cell_type": "markdown",
      "metadata": {},
      "source": [
        "## Importing service now dataset"
      ]
    },
    {
      "cell_type": "code",
      "execution_count": 259,
      "metadata": {},
      "outputs": [],
      "source": [
        "# Load Excel files\n",
        "df_service = pd.read_csv(\"0_maintenance_raw_data/service_now_only.csv\")"
      ]
    },
    {
      "cell_type": "code",
      "execution_count": 260,
      "metadata": {},
      "outputs": [],
      "source": [
        "# Selective renaming for df\n",
        "df_service = df_service.rename(columns={\n",
        "    'Asset Number': 'Asset_Number'\n",
        "})\n"
      ]
    },
    {
      "cell_type": "code",
      "execution_count": 261,
      "metadata": {},
      "outputs": [
        {
          "name": "stdout",
          "output_type": "stream",
          "text": [
            "Index(['Asset_Number', 'Incident_Number', 'Short_Description', 'Status',\n",
            "       'Priority', 'Category', 'Subcategory', 'Assigned_To', 'Assigned_Group',\n",
            "       'Created_Date'],\n",
            "      dtype='object')\n"
          ]
        }
      ],
      "source": [
        "print(df_service.columns)"
      ]
    },
    {
      "cell_type": "code",
      "execution_count": 262,
      "metadata": {},
      "outputs": [
        {
          "name": "stdout",
          "output_type": "stream",
          "text": [
            "   Asset_Number Incident_Number           Short_Description   Status  \\\n",
            "0        100080      INC0010047    Access badge not working   Closed   \n",
            "1        100081      INC0010085   Data center cooling alert   Closed   \n",
            "2        300006      INC0010048   Printer toner replacement     Open   \n",
            "3        300007      INC0010032  VoIP phone not registering  Stalled   \n",
            "4        300008      INC0010058      Network switch failure  Stalled   \n",
            "\n",
            "       Priority    Category      Subcategory   Assigned_To   Assigned_Group  \\\n",
            "0  3   Moderate    Security  Physical Access  Chris Parker    Security Team   \n",
            "1  1   Critical  Facilities      Data Center  Michael Wong       Facilities   \n",
            "2       4   Low    Hardware          Printer    Unassigned  Desktop Support   \n",
            "3  3   Moderate    Hardware            Phone  Sarah Miller  Telecom Support   \n",
            "4  1   Critical     Network           Switch  Michael Wong     Network Team   \n",
            "\n",
            "          Created_Date  \n",
            "0  2024 04 09T15:58:22  \n",
            "1  2024 04 17T08:05:22  \n",
            "2  2024 04 10T08:33:47  \n",
            "3  2024 04 05T14:22:33  \n",
            "4  2024 04 11T11:45:33  \n"
          ]
        }
      ],
      "source": [
        "print(df_service.head())"
      ]
    },
    {
      "cell_type": "code",
      "execution_count": 263,
      "metadata": {},
      "outputs": [
        {
          "name": "stdout",
          "output_type": "stream",
          "text": [
            "(111, 10)\n"
          ]
        }
      ],
      "source": [
        "print(df_service.shape)"
      ]
    },
    {
      "cell_type": "markdown",
      "metadata": {},
      "source": [
        "## Insert Asset Number in `df_maintenance` from `df_service`"
      ]
    },
    {
      "cell_type": "code",
      "execution_count": 264,
      "metadata": {},
      "outputs": [],
      "source": [
        "unique_assets = df_service[\"Asset_Number\"].unique()\n",
        "repeated_assets = np.resize(unique_assets, df_maintenance.shape[0])\n",
        "\n",
        "df_maintenance_with_asset_num = df_maintenance.copy()\n",
        "df_maintenance_with_asset_num.insert(0, \"Asset_Number\", repeated_assets)\n",
        "\n",
        "df_sorted_asc = df_maintenance_with_asset_num.sort_values(by='Asset_Number')\n"
      ]
    },
    {
      "cell_type": "code",
      "execution_count": 265,
      "metadata": {},
      "outputs": [
        {
          "name": "stdout",
          "output_type": "stream",
          "text": [
            "<bound method NDFrame.head of      Asset_Number  lifetime  broken  pressureInd  moistureInd  temperatureInd  \\\n",
            "0          100080        56       0    92.178854   104.230204       96.517159   \n",
            "999        100080        63       0   116.901354    99.998694       47.641493   \n",
            "666        100080        10       0   114.684324   112.865138       76.556266   \n",
            "888        100080        60       1   120.351288    93.771542      114.251655   \n",
            "333        100080        45       0   146.482610    98.848252      106.979033   \n",
            "..            ...       ...     ...          ...          ...             ...   \n",
            "554        600127        80       1   136.363399    89.902048       77.376099   \n",
            "776        600127        31       0   118.393599    94.383096      110.938194   \n",
            "221        600127        65       1   104.641411   111.418840       96.511544   \n",
            "110        600127        92       1    99.961582   105.944788      114.997360   \n",
            "998        600127        78       0   104.911649   104.257296       83.421491   \n",
            "\n",
            "      team   provider  \n",
            "0    TeamA  Provider4  \n",
            "999  TeamB  Provider1  \n",
            "666  TeamA  Provider3  \n",
            "888  TeamC  Provider3  \n",
            "333  TeamC  Provider4  \n",
            "..     ...        ...  \n",
            "554  TeamA  Provider1  \n",
            "776  TeamC  Provider1  \n",
            "221  TeamB  Provider3  \n",
            "110  TeamA  Provider2  \n",
            "998  TeamA  Provider4  \n",
            "\n",
            "[1000 rows x 8 columns]>\n"
          ]
        }
      ],
      "source": [
        "print(df_sorted_asc.head)"
      ]
    },
    {
      "cell_type": "markdown",
      "metadata": {},
      "source": [
        "## Indexing"
      ]
    },
    {
      "cell_type": "code",
      "execution_count": 266,
      "metadata": {},
      "outputs": [],
      "source": [
        "df_with_index = df_sorted_asc.copy()\n",
        "df_with_index.insert(0, 'Observation_Index', range(len(df_sorted_asc)))"
      ]
    },
    {
      "cell_type": "markdown",
      "metadata": {},
      "source": [
        "## Insert event date in `df_maintenance`"
      ]
    },
    {
      "cell_type": "code",
      "execution_count": 267,
      "metadata": {},
      "outputs": [],
      "source": [
        "from datetime import timedelta\n",
        "\n",
        "# Ensure Created_Date is in datetime format\n",
        "df_service[\"Created_Date\"] = pd.to_datetime(df_service[\"Created_Date\"], format=\"%Y %m %dT%H:%M:%S\").dt.date\n",
        "\n",
        "# use sorted df_maintenance\n",
        "df_with_index_1 = df_with_index.copy()\n",
        "\n",
        "# Create a new column for observation date\n",
        "observation_dates = []\n",
        "\n",
        "# Process each asset group\n",
        "for asset, group in df_with_index_1.groupby(\"Asset_Number\"):\n",
        "    # Get initial date from df_service\n",
        "    start_date = df_service.loc[df_service[\"Asset_Number\"] == asset, \"Created_Date\"].values[0]\n",
        "    \n",
        "    dates = []\n",
        "    current_date = pd.to_datetime(start_date)\n",
        "    \n",
        "    for i, row in group.iterrows():\n",
        "        dates.append(current_date)\n",
        "        # Backtrack for next row using this row's lifetime\n",
        "        current_date = current_date - timedelta(days=row[\"lifetime\"])\n",
        "    \n",
        "    observation_dates.extend(dates)\n",
        "\n",
        "# Assign observation_date column\n",
        "df_with_index_1[\"observation_date\"] = observation_dates\n"
      ]
    },
    {
      "cell_type": "markdown",
      "metadata": {},
      "source": [
        "## Export Updated Excel"
      ]
    },
    {
      "cell_type": "code",
      "execution_count": 268,
      "metadata": {},
      "outputs": [],
      "source": [
        "# Create the folder if it doesn't exist\n",
        "os.makedirs(\"1_maintenance_survival_data\", exist_ok=True)\n",
        "\n",
        "# Save the Excel file inside the folder\n",
        "df_with_index_1.to_csv(\"1_maintenance_survival_data/1_maintenance_survival_data.csv\", index=False)"
      ]
    },
    {
      "cell_type": "code",
      "execution_count": null,
      "metadata": {},
      "outputs": [],
      "source": []
    }
  ],
  "metadata": {
    "colab": {
      "collapsed_sections": [],
      "name": "data_preprocessing_tools.ipynb",
      "provenance": [],
      "toc_visible": true
    },
    "kernelspec": {
      "display_name": ".venv",
      "language": "python",
      "name": "python3"
    },
    "language_info": {
      "codemirror_mode": {
        "name": "ipython",
        "version": 3
      },
      "file_extension": ".py",
      "mimetype": "text/x-python",
      "name": "python",
      "nbconvert_exporter": "python",
      "pygments_lexer": "ipython3",
      "version": "3.10.11"
    }
  },
  "nbformat": 4,
  "nbformat_minor": 0
}
