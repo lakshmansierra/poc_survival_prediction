{
  "cells": [
    {
      "cell_type": "markdown",
      "metadata": {
        "colab_type": "text",
        "id": "37puETfgRzzg"
      },
      "source": [
        "# lifelines - predictive maintenance"
      ]
    },
    {
      "cell_type": "markdown",
      "metadata": {
        "colab_type": "text",
        "id": "EoRP98MpR-qj"
      },
      "source": [
        "## Importing the libraries"
      ]
    },
    {
      "cell_type": "code",
      "execution_count": 8,
      "metadata": {
        "colab": {},
        "colab_type": "code",
        "id": "N-qiINBQSK2g"
      },
      "outputs": [],
      "source": [
        "import os\n",
        "from datetime import datetime\n",
        "import numpy as np\n",
        "import matplotlib.pyplot as plt\n",
        "import pandas as pd\n"
      ]
    },
    {
      "cell_type": "markdown",
      "metadata": {
        "colab_type": "text",
        "id": "RopL7tUZSQkT"
      },
      "source": [
        "## Importing the dataset"
      ]
    },
    {
      "cell_type": "code",
      "execution_count": 9,
      "metadata": {},
      "outputs": [],
      "source": [
        "# pyspark_df = spark.table(\"sd_bdc_demo.sarima_time_series_forecasting.1_service_now_survival_data\")\n",
        "# pyspark_df.display()\n",
        "# df = pyspark_df.toPandas()"
      ]
    },
    {
      "cell_type": "code",
      "execution_count": 21,
      "metadata": {},
      "outputs": [],
      "source": [
        "df = pd.read_csv(\"2_maintenance_updated_data/2_maintenance_updated_data.csv\")\n"
      ]
    },
    {
      "cell_type": "code",
      "execution_count": 11,
      "metadata": {},
      "outputs": [
        {
          "name": "stdout",
          "output_type": "stream",
          "text": [
            "   lifetime  broken  pressureInd  moistureInd  temperatureInd  \\\n",
            "0        56       0           92          104              96   \n",
            "1        81       1           72          103              87   \n",
            "2        60       0           96           77             112   \n",
            "3        86       1           94          108              72   \n",
            "4        34       0           97           99             103   \n",
            "\n",
            "   provider_Provider2  provider_Provider3  provider_Provider4  team_TeamB  \\\n",
            "0                   0                   0                   1           0   \n",
            "1                   0                   0                   1           0   \n",
            "2                   0                   0                   0           0   \n",
            "3                   1                   0                   0           0   \n",
            "4                   0                   0                   0           1   \n",
            "\n",
            "   team_TeamC  \n",
            "0           0  \n",
            "1           1  \n",
            "2           0  \n",
            "3           1  \n",
            "4           0  \n"
          ]
        }
      ],
      "source": [
        "print(df.head())"
      ]
    },
    {
      "cell_type": "code",
      "execution_count": 12,
      "metadata": {},
      "outputs": [
        {
          "name": "stdout",
          "output_type": "stream",
          "text": [
            "Index(['lifetime', 'broken', 'pressureInd', 'moistureInd', 'temperatureInd',\n",
            "       'provider_Provider2', 'provider_Provider3', 'provider_Provider4',\n",
            "       'team_TeamB', 'team_TeamC'],\n",
            "      dtype='object')\n"
          ]
        }
      ],
      "source": [
        "print(df.columns)"
      ]
    },
    {
      "cell_type": "code",
      "execution_count": 13,
      "metadata": {},
      "outputs": [
        {
          "name": "stdout",
          "output_type": "stream",
          "text": [
            "lifetime              int64\n",
            "broken                int64\n",
            "pressureInd           int64\n",
            "moistureInd           int64\n",
            "temperatureInd        int64\n",
            "provider_Provider2    int64\n",
            "provider_Provider3    int64\n",
            "provider_Provider4    int64\n",
            "team_TeamB            int64\n",
            "team_TeamC            int64\n",
            "dtype: object\n"
          ]
        }
      ],
      "source": [
        "print(df.dtypes)"
      ]
    },
    {
      "cell_type": "code",
      "execution_count": 14,
      "metadata": {},
      "outputs": [
        {
          "name": "stdout",
          "output_type": "stream",
          "text": [
            "(1000, 10)\n"
          ]
        }
      ],
      "source": [
        "print(df.shape)"
      ]
    },
    {
      "cell_type": "markdown",
      "metadata": {},
      "source": [
        "## The Weibull AFT model"
      ]
    },
    {
      "cell_type": "code",
      "execution_count": 15,
      "metadata": {},
      "outputs": [
        {
          "data": {
            "text/plain": [
              "<lifelines.WeibullAFTFitter: fitted with 1000 total observations, 603 right-censored observations>"
            ]
          },
          "execution_count": 15,
          "metadata": {},
          "output_type": "execute_result"
        }
      ],
      "source": [
        "from lifelines import WeibullAFTFitter\n",
        "aft = WeibullAFTFitter()\n",
        "aft.fit(df, duration_col='lifetime', event_col='broken')"
      ]
    },
    {
      "cell_type": "code",
      "execution_count": 16,
      "metadata": {},
      "outputs": [
        {
          "data": {
            "text/html": [
              "<div>\n",
              "<style scoped>\n",
              "    .dataframe tbody tr th:only-of-type {\n",
              "        vertical-align: middle;\n",
              "    }\n",
              "\n",
              "    .dataframe tbody tr th {\n",
              "        vertical-align: top;\n",
              "    }\n",
              "\n",
              "    .dataframe thead th {\n",
              "        text-align: right;\n",
              "    }\n",
              "</style>\n",
              "<table border=\"1\" class=\"dataframe\">\n",
              "  <tbody>\n",
              "    <tr>\n",
              "      <th>model</th>\n",
              "      <td>lifelines.WeibullAFTFitter</td>\n",
              "    </tr>\n",
              "    <tr>\n",
              "      <th>duration col</th>\n",
              "      <td>'lifetime'</td>\n",
              "    </tr>\n",
              "    <tr>\n",
              "      <th>event col</th>\n",
              "      <td>'broken'</td>\n",
              "    </tr>\n",
              "    <tr>\n",
              "      <th>number of observations</th>\n",
              "      <td>1000</td>\n",
              "    </tr>\n",
              "    <tr>\n",
              "      <th>number of events observed</th>\n",
              "      <td>397</td>\n",
              "    </tr>\n",
              "    <tr>\n",
              "      <th>log-likelihood</th>\n",
              "      <td>-64.15</td>\n",
              "    </tr>\n",
              "    <tr>\n",
              "      <th>time fit was run</th>\n",
              "      <td>2025-06-24 06:32:04 UTC</td>\n",
              "    </tr>\n",
              "  </tbody>\n",
              "</table>\n",
              "</div><table border=\"1\" class=\"dataframe\">\n",
              "  <thead>\n",
              "    <tr style=\"text-align: right;\">\n",
              "      <th style=\"min-width: 12px;\"></th>\n",
              "      <th style=\"min-width: 12px;\"></th>\n",
              "      <th style=\"min-width: 12px;\">coef</th>\n",
              "      <th style=\"min-width: 12px;\">exp(coef)</th>\n",
              "      <th style=\"min-width: 12px;\">se(coef)</th>\n",
              "      <th style=\"min-width: 12px;\">coef lower 95%</th>\n",
              "      <th style=\"min-width: 12px;\">coef upper 95%</th>\n",
              "      <th style=\"min-width: 12px;\">exp(coef) lower 95%</th>\n",
              "      <th style=\"min-width: 12px;\">exp(coef) upper 95%</th>\n",
              "      <th style=\"min-width: 12px;\">cmp to</th>\n",
              "      <th style=\"min-width: 12px;\">z</th>\n",
              "      <th style=\"min-width: 12px;\">p</th>\n",
              "      <th style=\"min-width: 12px;\">-log2(p)</th>\n",
              "    </tr>\n",
              "  </thead>\n",
              "  <tbody>\n",
              "    <tr>\n",
              "      <th rowspan=\"9\" valign=\"top\">lambda_</th>\n",
              "      <th>moistureInd</th>\n",
              "      <td>0.00</td>\n",
              "      <td>1.00</td>\n",
              "      <td>0.00</td>\n",
              "      <td>0.00</td>\n",
              "      <td>0.00</td>\n",
              "      <td>1.00</td>\n",
              "      <td>1.00</td>\n",
              "      <td>0.00</td>\n",
              "      <td>6.09</td>\n",
              "      <td>&lt;0.005</td>\n",
              "      <td>29.68</td>\n",
              "    </tr>\n",
              "    <tr>\n",
              "      <th>pressureInd</th>\n",
              "      <td>-0.00</td>\n",
              "      <td>1.00</td>\n",
              "      <td>0.00</td>\n",
              "      <td>-0.00</td>\n",
              "      <td>-0.00</td>\n",
              "      <td>1.00</td>\n",
              "      <td>1.00</td>\n",
              "      <td>0.00</td>\n",
              "      <td>-2.09</td>\n",
              "      <td>0.04</td>\n",
              "      <td>4.76</td>\n",
              "    </tr>\n",
              "    <tr>\n",
              "      <th>provider_Provider2</th>\n",
              "      <td>0.15</td>\n",
              "      <td>1.16</td>\n",
              "      <td>0.00</td>\n",
              "      <td>0.15</td>\n",
              "      <td>0.15</td>\n",
              "      <td>1.16</td>\n",
              "      <td>1.16</td>\n",
              "      <td>0.00</td>\n",
              "      <td>321.87</td>\n",
              "      <td>&lt;0.005</td>\n",
              "      <td>inf</td>\n",
              "    </tr>\n",
              "    <tr>\n",
              "      <th>provider_Provider3</th>\n",
              "      <td>-0.20</td>\n",
              "      <td>0.82</td>\n",
              "      <td>0.00</td>\n",
              "      <td>-0.20</td>\n",
              "      <td>-0.20</td>\n",
              "      <td>0.82</td>\n",
              "      <td>0.82</td>\n",
              "      <td>0.00</td>\n",
              "      <td>-465.23</td>\n",
              "      <td>&lt;0.005</td>\n",
              "      <td>inf</td>\n",
              "    </tr>\n",
              "    <tr>\n",
              "      <th>provider_Provider4</th>\n",
              "      <td>0.10</td>\n",
              "      <td>1.10</td>\n",
              "      <td>0.00</td>\n",
              "      <td>0.10</td>\n",
              "      <td>0.10</td>\n",
              "      <td>1.10</td>\n",
              "      <td>1.10</td>\n",
              "      <td>0.00</td>\n",
              "      <td>199.47</td>\n",
              "      <td>&lt;0.005</td>\n",
              "      <td>inf</td>\n",
              "    </tr>\n",
              "    <tr>\n",
              "      <th>team_TeamB</th>\n",
              "      <td>-0.00</td>\n",
              "      <td>1.00</td>\n",
              "      <td>0.00</td>\n",
              "      <td>-0.00</td>\n",
              "      <td>-0.00</td>\n",
              "      <td>1.00</td>\n",
              "      <td>1.00</td>\n",
              "      <td>0.00</td>\n",
              "      <td>-2.08</td>\n",
              "      <td>0.04</td>\n",
              "      <td>4.74</td>\n",
              "    </tr>\n",
              "    <tr>\n",
              "      <th>team_TeamC</th>\n",
              "      <td>-0.08</td>\n",
              "      <td>0.92</td>\n",
              "      <td>0.00</td>\n",
              "      <td>-0.08</td>\n",
              "      <td>-0.08</td>\n",
              "      <td>0.92</td>\n",
              "      <td>0.92</td>\n",
              "      <td>0.00</td>\n",
              "      <td>-191.13</td>\n",
              "      <td>&lt;0.005</td>\n",
              "      <td>inf</td>\n",
              "    </tr>\n",
              "    <tr>\n",
              "      <th>temperatureInd</th>\n",
              "      <td>-0.00</td>\n",
              "      <td>1.00</td>\n",
              "      <td>0.00</td>\n",
              "      <td>-0.00</td>\n",
              "      <td>-0.00</td>\n",
              "      <td>1.00</td>\n",
              "      <td>1.00</td>\n",
              "      <td>0.00</td>\n",
              "      <td>-21.96</td>\n",
              "      <td>&lt;0.005</td>\n",
              "      <td>352.64</td>\n",
              "    </tr>\n",
              "    <tr>\n",
              "      <th>Intercept</th>\n",
              "      <td>4.39</td>\n",
              "      <td>80.60</td>\n",
              "      <td>0.00</td>\n",
              "      <td>4.39</td>\n",
              "      <td>4.39</td>\n",
              "      <td>80.25</td>\n",
              "      <td>80.96</td>\n",
              "      <td>0.00</td>\n",
              "      <td>1965.38</td>\n",
              "      <td>&lt;0.005</td>\n",
              "      <td>inf</td>\n",
              "    </tr>\n",
              "    <tr>\n",
              "      <th>rho_</th>\n",
              "      <th>Intercept</th>\n",
              "      <td>5.72</td>\n",
              "      <td>306.29</td>\n",
              "      <td>0.04</td>\n",
              "      <td>5.65</td>\n",
              "      <td>5.80</td>\n",
              "      <td>284.45</td>\n",
              "      <td>329.82</td>\n",
              "      <td>0.00</td>\n",
              "      <td>151.64</td>\n",
              "      <td>&lt;0.005</td>\n",
              "      <td>inf</td>\n",
              "    </tr>\n",
              "  </tbody>\n",
              "</table><br><div>\n",
              "<style scoped>\n",
              "    .dataframe tbody tr th:only-of-type {\n",
              "        vertical-align: middle;\n",
              "    }\n",
              "\n",
              "    .dataframe tbody tr th {\n",
              "        vertical-align: top;\n",
              "    }\n",
              "\n",
              "    .dataframe thead th {\n",
              "        text-align: right;\n",
              "    }\n",
              "</style>\n",
              "<table border=\"1\" class=\"dataframe\">\n",
              "  <tbody>\n",
              "    <tr>\n",
              "      <th>Concordance</th>\n",
              "      <td>1.00</td>\n",
              "    </tr>\n",
              "    <tr>\n",
              "      <th>AIC</th>\n",
              "      <td>148.31</td>\n",
              "    </tr>\n",
              "    <tr>\n",
              "      <th>log-likelihood ratio test</th>\n",
              "      <td>2960.95 on 8 df</td>\n",
              "    </tr>\n",
              "    <tr>\n",
              "      <th>-log2(p) of ll-ratio test</th>\n",
              "      <td>inf</td>\n",
              "    </tr>\n",
              "  </tbody>\n",
              "</table>\n",
              "</div>"
            ],
            "text/latex": [
              "\\begin{tabular}{llrrrrrrrrrrr}\n",
              " &  & coef & exp(coef) & se(coef) & coef lower 95% & coef upper 95% & exp(coef) lower 95% & exp(coef) upper 95% & cmp to & z & p & -log2(p) \\\\\n",
              "param & covariate &  &  &  &  &  &  &  &  &  &  &  \\\\\n",
              "\\multirow[c]{9}{*}{lambda_} & moistureInd & 0.00 & 1.00 & 0.00 & 0.00 & 0.00 & 1.00 & 1.00 & 0.00 & 6.09 & 0.00 & 29.68 \\\\\n",
              " & pressureInd & -0.00 & 1.00 & 0.00 & -0.00 & -0.00 & 1.00 & 1.00 & 0.00 & -2.09 & 0.04 & 4.76 \\\\\n",
              " & provider_Provider2 & 0.15 & 1.16 & 0.00 & 0.15 & 0.15 & 1.16 & 1.16 & 0.00 & 321.87 & 0.00 & inf \\\\\n",
              " & provider_Provider3 & -0.20 & 0.82 & 0.00 & -0.20 & -0.20 & 0.82 & 0.82 & 0.00 & -465.23 & 0.00 & inf \\\\\n",
              " & provider_Provider4 & 0.10 & 1.10 & 0.00 & 0.10 & 0.10 & 1.10 & 1.10 & 0.00 & 199.47 & 0.00 & inf \\\\\n",
              " & team_TeamB & -0.00 & 1.00 & 0.00 & -0.00 & -0.00 & 1.00 & 1.00 & 0.00 & -2.08 & 0.04 & 4.74 \\\\\n",
              " & team_TeamC & -0.08 & 0.92 & 0.00 & -0.08 & -0.08 & 0.92 & 0.92 & 0.00 & -191.13 & 0.00 & inf \\\\\n",
              " & temperatureInd & -0.00 & 1.00 & 0.00 & -0.00 & -0.00 & 1.00 & 1.00 & 0.00 & -21.96 & 0.00 & 352.64 \\\\\n",
              " & Intercept & 4.39 & 80.60 & 0.00 & 4.39 & 4.39 & 80.25 & 80.96 & 0.00 & 1965.38 & 0.00 & inf \\\\\n",
              "rho_ & Intercept & 5.72 & 306.29 & 0.04 & 5.65 & 5.80 & 284.45 & 329.82 & 0.00 & 151.64 & 0.00 & inf \\\\\n",
              "\\end{tabular}\n"
            ],
            "text/plain": [
              "<lifelines.WeibullAFTFitter: fitted with 1000 total observations, 603 right-censored observations>\n",
              "             duration col = 'lifetime'\n",
              "                event col = 'broken'\n",
              "   number of observations = 1000\n",
              "number of events observed = 397\n",
              "           log-likelihood = -64.15\n",
              "         time fit was run = 2025-06-24 06:32:04 UTC\n",
              "\n",
              "---\n",
              "                            coef exp(coef)  se(coef)  coef lower 95%  coef upper 95% exp(coef) lower 95% exp(coef) upper 95%\n",
              "param   covariate                                                                                                           \n",
              "lambda_ moistureInd         0.00      1.00      0.00            0.00            0.00                1.00                1.00\n",
              "        pressureInd        -0.00      1.00      0.00           -0.00           -0.00                1.00                1.00\n",
              "        provider_Provider2  0.15      1.16      0.00            0.15            0.15                1.16                1.16\n",
              "        provider_Provider3 -0.20      0.82      0.00           -0.20           -0.20                0.82                0.82\n",
              "        provider_Provider4  0.10      1.10      0.00            0.10            0.10                1.10                1.10\n",
              "        team_TeamB         -0.00      1.00      0.00           -0.00           -0.00                1.00                1.00\n",
              "        team_TeamC         -0.08      0.92      0.00           -0.08           -0.08                0.92                0.92\n",
              "        temperatureInd     -0.00      1.00      0.00           -0.00           -0.00                1.00                1.00\n",
              "        Intercept           4.39     80.60      0.00            4.39            4.39               80.25               80.96\n",
              "rho_    Intercept           5.72    306.29      0.04            5.65            5.80              284.45              329.82\n",
              "\n",
              "                            cmp to       z      p  -log2(p)\n",
              "param   covariate                                          \n",
              "lambda_ moistureInd           0.00    6.09 <0.005     29.68\n",
              "        pressureInd           0.00   -2.09   0.04      4.76\n",
              "        provider_Provider2    0.00  321.87 <0.005       inf\n",
              "        provider_Provider3    0.00 -465.23 <0.005       inf\n",
              "        provider_Provider4    0.00  199.47 <0.005       inf\n",
              "        team_TeamB            0.00   -2.08   0.04      4.74\n",
              "        team_TeamC            0.00 -191.13 <0.005       inf\n",
              "        temperatureInd        0.00  -21.96 <0.005    352.64\n",
              "        Intercept             0.00 1965.38 <0.005       inf\n",
              "rho_    Intercept             0.00  151.64 <0.005       inf\n",
              "---\n",
              "Concordance = 1.00\n",
              "AIC = 148.31\n",
              "log-likelihood ratio test = 2960.95 on 8 df\n",
              "-log2(p) of ll-ratio test = inf"
            ]
          },
          "metadata": {},
          "output_type": "display_data"
        }
      ],
      "source": [
        "aft.print_summary()"
      ]
    },
    {
      "cell_type": "code",
      "execution_count": 17,
      "metadata": {},
      "outputs": [
        {
          "name": "stdout",
          "output_type": "stream",
          "text": [
            "79.85781384102552\n",
            "79.80359634313356\n"
          ]
        }
      ],
      "source": [
        "print(aft.median_survival_time_)\n",
        "print(aft.mean_survival_time_)"
      ]
    },
    {
      "cell_type": "markdown",
      "metadata": {},
      "source": [
        "### Saving summary table"
      ]
    },
    {
      "cell_type": "code",
      "execution_count": 33,
      "metadata": {},
      "outputs": [],
      "source": [
        "summary_df = aft.summary.copy()\n",
        "summary_df = summary_df.reset_index()\n",
        "summary_df = summary_df.rename(columns={\"index\": \"Parameter\"})\n",
        "\n"
      ]
    },
    {
      "cell_type": "code",
      "execution_count": 34,
      "metadata": {},
      "outputs": [],
      "source": [
        "# Create the folder if it doesn't exist\n",
        "os.makedirs(\"3_1_maintenance_aft_model_summary_data\", exist_ok=True)\n",
        "\n",
        "# Save the Excel file inside the folder\n",
        "summary_df.to_csv(\"3_1_maintenance_aft_model_summary_data/3_1_maintenance_aft_model_summary_data.csv\", index=False)"
      ]
    },
    {
      "cell_type": "markdown",
      "metadata": {},
      "source": [
        "### Saving meta data"
      ]
    },
    {
      "cell_type": "code",
      "execution_count": 31,
      "metadata": {},
      "outputs": [
        {
          "name": "stderr",
          "output_type": "stream",
          "text": [
            "C:\\Users\\LakshmanNavaneethakr\\AppData\\Local\\Temp\\ipykernel_23568\\927569698.py:12: RuntimeWarning: divide by zero encountered in log2\n",
            "  \"-log2(p) of LLR\": -np.log2(aft.log_likelihood_ratio_test().p_value)\n"
          ]
        }
      ],
      "source": [
        "meta_info = {\n",
        "    \"Model\": str(type(aft)),\n",
        "    \"Duration column\": 'lifetime',\n",
        "    \"Event column\": 'broken',\n",
        "    \"Number of observations\": df.shape[0],\n",
        "    \"Number of events observed\": df['broken'].sum(),\n",
        "    \"Log-likelihood\": aft.log_likelihood_,\n",
        "    \"Concordance\": aft.concordance_index_,\n",
        "    \"AIC\": aft.AIC_,\n",
        "    \"LLR test\": aft.log_likelihood_ratio_test().test_statistic,\n",
        "    \"LLR df\": aft.log_likelihood_ratio_test().degrees_freedom,\n",
        "    \"-log2(p) of LLR\": -np.log2(aft.log_likelihood_ratio_test().p_value)\n",
        "}\n",
        "\n",
        "# Convert to DataFrame\n",
        "meta_df = pd.DataFrame(list(meta_info.items()), columns=[\"Metric\", \"Value\"])"
      ]
    },
    {
      "cell_type": "code",
      "execution_count": 32,
      "metadata": {},
      "outputs": [],
      "source": [
        "# Create the folder if it doesn't exist\n",
        "os.makedirs(\"3_2_maintenance_aft_model_meta_data\", exist_ok=True)\n",
        "\n",
        "# Save the Excel file inside the folder\n",
        "meta_df.to_csv(\"3_2_maintenance_aft_model_meta_data/3_2_maintenance_aft_model_meta_data.csv\", index=False)"
      ]
    },
    {
      "cell_type": "markdown",
      "metadata": {},
      "source": [
        "## Plotting"
      ]
    },
    {
      "cell_type": "code",
      "execution_count": 18,
      "metadata": {},
      "outputs": [
        {
          "data": {
            "text/plain": [
              "<Axes: xlabel='log(accelerated failure rate) (95% CI)'>"
            ]
          },
          "execution_count": 18,
          "metadata": {},
          "output_type": "execute_result"
        },
        {
          "data": {
            "image/png": "[encoded data removed]",
            "text/plain": [
              "<Figure size 640x480 with 1 Axes>"
            ]
          },
          "metadata": {},
          "output_type": "display_data"
        }
      ],
      "source": [
        "from matplotlib import pyplot as plt\n",
        "\n",
        "aft.plot()"
      ]
    },
    {
      "cell_type": "markdown",
      "metadata": {},
      "source": [
        "## Prediction"
      ]
    },
    {
      "cell_type": "code",
      "execution_count": 23,
      "metadata": {},
      "outputs": [
        {
          "data": {
            "text/plain": [
              "0     88.089455\n",
              "1     81.417784\n",
              "2     79.449244\n",
              "3     85.934844\n",
              "4     79.694951\n",
              "5     80.108581\n",
              "6     91.719151\n",
              "7     65.052447\n",
              "8     92.764149\n",
              "9     81.232063\n",
              "10    88.104920\n",
              "dtype: float64"
            ]
          },
          "execution_count": 23,
          "metadata": {},
          "output_type": "execute_result"
        }
      ],
      "source": [
        "X = df.loc[:10]\n",
        "\n",
        "aft.predict_cumulative_hazard(X, ancillary=X)\n",
        "aft.predict_survival_function(X, ancillary=X)\n",
        "aft.predict_median(X, ancillary=X)\n",
        "aft.predict_percentile(X, p=0.9, ancillary=X)\n",
        "aft.predict_expectation(X, ancillary=X)"
      ]
    },
    {
      "cell_type": "markdown",
      "metadata": {},
      "source": [
        "## Save the table"
      ]
    },
    {
      "cell_type": "code",
      "execution_count": null,
      "metadata": {},
      "outputs": [],
      "source": []
    }
  ],
  "metadata": {
    "colab": {
      "collapsed_sections": [],
      "name": "data_preprocessing_tools.ipynb",
      "provenance": [],
      "toc_visible": true
    },
    "kernelspec": {
      "display_name": ".venv",
      "language": "python",
      "name": "python3"
    },
    "language_info": {
      "codemirror_mode": {
        "name": "ipython",
        "version": 3
      },
      "file_extension": ".py",
      "mimetype": "text/x-python",
      "name": "python",
      "nbconvert_exporter": "python",
      "pygments_lexer": "ipython3",
      "version": "3.10.11"
    }
  },
  "nbformat": 4,
  "nbformat_minor": 0
}
